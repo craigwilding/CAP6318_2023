{
 "cells": [
  {
   "cell_type": "markdown",
   "metadata": {},
   "source": [
    "# Get the Author Data\n",
    "The web scraper pulls a list of the top N authors for the given topic.\n",
    "N_AUTHORS and TOPIC are set in the MyEnvVars.py file  \n",
    "N_AUTHORS is 100,  TOPIC = Tourism\n",
    "\n",
    "For each author it is pulling:  \n",
    "- Name\n",
    "- University\n",
    "- Other Topics\n",
    "- Link to Author's Google Scholar page  \n",
    "\n",
    "# Get Co-author Data\n",
    "For each author, it then goes to the author's Google Scholar page and gets the list of publications for the author.  \n",
    "For each publication that lists other authors, it collects the following data:  \n",
    "- Coauthor name\n",
    "- Coauthor order: This is the order that the co-author was listed as.  Ex. 1 means the coauthor was listed first, 2 if they were listed second, and so on increasingly.\n",
    "- orderWeight: This is the inverse (1/order).  This is used to give a lower weight to coauthors listed last\n",
    "- citations: The number of citations for the publication\n",
    "- year: The year of the publication\n",
    "\n",
    "\n"
   ]
  },
  {
   "cell_type": "markdown",
   "metadata": {},
   "source": [
    "# Nodes\n",
    "The node list is the combined list of all of the original authors and co-authors.  \n",
    "\n",
    "NOTE: I could not consistently get University data for all of the co-authors, so the additional author data is not included in the nodes list.  \n",
    "\n",
    "# Edges\n",
    "The edge list creates an edge entry for each author -> coauthor pair found.  \n",
    "If the original N authors coauthored a publication, then these author -> author pairs are included in the edges.  \n",
    "However, no co-author -> co-author pairs are included as the algorithm did not delve further down into the coauthor's publications.  \n",
    "This limits the network to the connections of the original 100 authors.\n",
    "\n",
    "## Edge Weights\n",
    "A file of weighted edges are produced for:  \n",
    "- citations: sum of citations for the shared publications\n",
    "- orderWeight: sum of orderWeight indicating the co-authors rank in the list of co-authors\n",
    "- year: most recent year the coauthors had a publication\n",
    "\n",
    "\n"
   ]
  }
 ],
 "metadata": {
  "kernelspec": {
   "display_name": "Python 3",
   "language": "python",
   "name": "python3"
  },
  "language_info": {
   "name": "python",
   "version": "3.11.1"
  },
  "orig_nbformat": 4
 },
 "nbformat": 4,
 "nbformat_minor": 2
}
